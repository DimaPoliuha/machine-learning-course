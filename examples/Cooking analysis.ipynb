{
 "cells": [
  {
   "cell_type": "markdown",
   "metadata": {},
   "source": [
    "# Cooking posts analysis "
   ]
  },
  {
   "cell_type": "markdown",
   "metadata": {},
   "source": [
    "### Using top 3 groups"
   ]
  },
  {
   "cell_type": "code",
   "execution_count": 1,
   "metadata": {},
   "outputs": [],
   "source": [
    "import numpy as np\n",
    "import pandas as pd\n",
    "import matplotlib.pyplot as plt\n",
    "%matplotlib inline\n",
    "import seaborn\n",
    "seaborn.set()"
   ]
  },
  {
   "cell_type": "code",
   "execution_count": 2,
   "metadata": {},
   "outputs": [],
   "source": [
    "dataset1 = pd.read_csv('dataset/cast_iron_cooking1.tsv', delimiter='\\t', usecols=[1, 2, 3], header=None, names=['type', 'comments', 'data'], quoting=3)\n",
    "dataset2 = pd.read_csv('dataset/classic_country_cooking1.tsv', delimiter='\\t', usecols=[1, 2, 3], header=None, names=['type', 'comments', 'data'], quoting=3)\n",
    "dataset3 = pd.read_csv('dataset/for_our_love_of_cooking1.tsv', delimiter='\\t', usecols=[1, 2, 3], header=None, names=['type', 'comments', 'data'], quoting=3)"
   ]
  },
  {
   "cell_type": "code",
   "execution_count": 3,
   "metadata": {},
   "outputs": [
    {
     "name": "stdout",
     "output_type": "stream",
     "text": [
      "Total count of posts: 361284\n",
      "\tCa ir co (Part 1): 149494\n",
      "\tCl co co (Part 1): 97548\n",
      "\tFo ou lo of co (Part 1): 114242\n"
     ]
    }
   ],
   "source": [
    "print('Total count of posts: {}\\n'\n",
    "      '\\tCa ir co (Part 1): {}\\n'\n",
    "      '\\tCl co co (Part 1): {}\\n'\n",
    "      '\\tFo ou lo of co (Part 1): {}'\n",
    "      .format(len(dataset1)+len(dataset2)+len(dataset3), len(dataset1), len(dataset2), len(dataset3)))"
   ]
  },
  {
   "cell_type": "code",
   "execution_count": 4,
   "metadata": {},
   "outputs": [],
   "source": [
    "dataset1 = dataset1[dataset1['comments'] >= 10]\n",
    "dataset2 = dataset2[dataset2['comments'] >= 10]\n",
    "dataset3 = dataset3[dataset3['comments'] >= 10]"
   ]
  },
  {
   "cell_type": "code",
   "execution_count": 5,
   "metadata": {},
   "outputs": [],
   "source": [
    "dataset1['type'] = dataset1['type'].fillna(value='text')\n",
    "dataset2['type'] = dataset2['type'].fillna(value='text')\n",
    "dataset3['type'] = dataset3['type'].fillna(value='text')"
   ]
  },
  {
   "cell_type": "code",
   "execution_count": 6,
   "metadata": {},
   "outputs": [
    {
     "name": "stdout",
     "output_type": "stream",
     "text": [
      "Total count of posts with >= 10 comments: 66188\n",
      "\tCa ir co (Part 1): 29765\n",
      "\tCl co co (Part 1): 23504\n",
      "\tFo ou lo of co (Part 1): 12919\n"
     ]
    }
   ],
   "source": [
    "print('Total count of posts with >= 10 comments: {}\\n'\n",
    "      '\\tCa ir co (Part 1): {}\\n'\n",
    "      '\\tCl co co (Part 1): {}\\n'\n",
    "      '\\tFo ou lo of co (Part 1): {}'\n",
    "      .format(len(dataset1)+len(dataset2)+len(dataset3), len(dataset1), len(dataset2), len(dataset3)))"
   ]
  },
  {
   "cell_type": "markdown",
   "metadata": {},
   "source": [
    "## Posts type analysis"
   ]
  },
  {
   "cell_type": "code",
   "execution_count": 7,
   "metadata": {},
   "outputs": [],
   "source": [
    "type_data = pd.concat((dataset1['type'], dataset2['type'], dataset3['type']))"
   ]
  },
  {
   "cell_type": "code",
   "execution_count": 8,
   "metadata": {},
   "outputs": [],
   "source": [
    "type_data = type_data.value_counts()"
   ]
  },
  {
   "cell_type": "code",
   "execution_count": 9,
   "metadata": {},
   "outputs": [
    {
     "data": {
      "image/png": "[encoded data removed]",
      "text/plain": [
       "<Figure size 432x288 with 1 Axes>"
      ]
     },
     "metadata": {
      "needs_background": "light"
     },
     "output_type": "display_data"
    }
   ],
   "source": [
    "plt.plot(type_data[type_data > 500])\n",
    "plt.title('Graph of posts with different types of 3 groups')\n",
    "plt.xlabel('Post type')\n",
    "plt.ylabel('Post count')\n",
    "plt.show()"
   ]
  },
  {
   "cell_type": "code",
   "execution_count": 10,
   "metadata": {},
   "outputs": [
    {
     "data": {
      "text/plain": [
       "photo                      34397\n",
       "album                      16250\n",
       "text                       11235\n",
       "video_inline                3140\n",
       "group_sell_product_item      470\n",
       "unavailable                  468\n",
       "share                        155\n",
       "new_album                     21\n",
       "post                           9\n",
       "note                           9\n",
       "video_direct_response          8\n",
       "animated_image_share           5\n",
       "animated_image_video           5\n",
       "map                            5\n",
       "native_templates               5\n",
       "image_share                    3\n",
       "group                          1\n",
       "avatar                         1\n",
       "cover_photo                    1\n",
       "Name: type, dtype: int64"
      ]
     },
     "execution_count": 10,
     "metadata": {},
     "output_type": "execute_result"
    }
   ],
   "source": [
    "type_data"
   ]
  },
  {
   "cell_type": "markdown",
   "metadata": {},
   "source": [
    "## Posts data analysis"
   ]
  },
  {
   "cell_type": "code",
   "execution_count": 11,
   "metadata": {},
   "outputs": [],
   "source": [
    "posts_data = pd.concat((dataset1['data'], dataset2['data'], dataset3['data']))"
   ]
  },
  {
   "cell_type": "markdown",
   "metadata": {},
   "source": [
    "### Posts length"
   ]
  },
  {
   "cell_type": "code",
   "execution_count": 12,
   "metadata": {},
   "outputs": [],
   "source": [
    "words_count = posts_data.apply(lambda x: len(str(x).split(' ')))"
   ]
  },
  {
   "cell_type": "code",
   "execution_count": 13,
   "metadata": {},
   "outputs": [],
   "source": [
    "average_words_count = int(words_count.mean())"
   ]
  },
  {
   "cell_type": "code",
   "execution_count": 14,
   "metadata": {},
   "outputs": [],
   "source": [
    "symbols_count = posts_data.apply(lambda x: len(str(x)))"
   ]
  },
  {
   "cell_type": "code",
   "execution_count": 15,
   "metadata": {},
   "outputs": [],
   "source": [
    "average_symbols_count = int(symbols_count.mean())"
   ]
  },
  {
   "cell_type": "code",
   "execution_count": 16,
   "metadata": {},
   "outputs": [],
   "source": [
    "count_80 = len(symbols_count[symbols_count <= 80])\n",
    "count_100 = len(symbols_count[symbols_count <= 100])\n",
    "count_120 = len(symbols_count[symbols_count <= 120])"
   ]
  },
  {
   "cell_type": "code",
   "execution_count": 17,
   "metadata": {},
   "outputs": [
    {
     "name": "stdout",
     "output_type": "stream",
     "text": [
      "Average words count: 21\n",
      "Average symbols count: 112\n",
      "Posts count with <= 80 symbols: 33690\n",
      "Posts count with <= 100 symbols: 39746\n",
      "Posts count with <= 120 symbols: 44304\n",
      "\n"
     ]
    }
   ],
   "source": [
    "print('Average words count: {}\\n'\n",
    "     'Average symbols count: {}\\n'\n",
    "     'Posts count with <= 80 symbols: {}\\n'\n",
    "     'Posts count with <= 100 symbols: {}\\n'\n",
    "     'Posts count with <= 120 symbols: {}\\n'\n",
    "     .format(average_words_count, average_symbols_count, count_80, count_100, count_120))"
   ]
  },
  {
   "cell_type": "markdown",
   "metadata": {},
   "source": [
    "### Cleaning text"
   ]
  },
  {
   "cell_type": "code",
   "execution_count": 18,
   "metadata": {},
   "outputs": [
    {
     "name": "stderr",
     "output_type": "stream",
     "text": [
      "[nltk_data] Downloading package wordnet to C:\\Users\\Dmitry\n",
      "[nltk_data]     Poliuha\\AppData\\Roaming\\nltk_data...\n",
      "[nltk_data]   Package wordnet is already up-to-date!\n",
      "[nltk_data] Downloading package stopwords to C:\\Users\\Dmitry\n",
      "[nltk_data]     Poliuha\\AppData\\Roaming\\nltk_data...\n",
      "[nltk_data]   Package stopwords is already up-to-date!\n"
     ]
    }
   ],
   "source": [
    "import re\n",
    "import nltk\n",
    "nltk.download('wordnet')\n",
    "nltk.download('stopwords')\n",
    "from nltk.corpus import stopwords\n",
    "from nltk.stem import WordNetLemmatizer"
   ]
  },
  {
   "cell_type": "code",
   "execution_count": 19,
   "metadata": {},
   "outputs": [],
   "source": [
    "lemmatizer = WordNetLemmatizer()\n",
    "corpus = []\n",
    "stopwords_eng = set(stopwords.words('english'))\n",
    "for item in posts_data:\n",
    "    post = re.sub(r'[^a-zA-Z]', ' ', str(item))\n",
    "    post = post.lower()\n",
    "    post = [lemmatizer.lemmatize(word) for word in post.split(' ') if word and word not in stopwords_eng]\n",
    "    post = ' '.join(post)\n",
    "    corpus.append(post)"
   ]
  },
  {
   "cell_type": "markdown",
   "metadata": {},
   "source": [
    "### Write words frequencies to file"
   ]
  },
  {
   "cell_type": "code",
   "execution_count": 20,
   "metadata": {},
   "outputs": [],
   "source": [
    "words_frequencies = pd.Series(' '.join(corpus).split()).value_counts()\n",
    "words_frequencies[words_frequencies >= 500].to_csv('words_frequencies.csv')"
   ]
  },
  {
   "cell_type": "code",
   "execution_count": 21,
   "metadata": {},
   "outputs": [
    {
     "data": {
      "text/plain": [
       "iron       7509\n",
       "cast       7207\n",
       "made       6686\n",
       "chicken    6592\n",
       "pan        5479\n",
       "dinner     5275\n",
       "good       5143\n",
       "one        4646\n",
       "potato     4608\n",
       "cheese     4506\n",
       "dtype: int64"
      ]
     },
     "execution_count": 21,
     "metadata": {},
     "output_type": "execute_result"
    }
   ],
   "source": [
    "words_frequencies.head(10)"
   ]
  }
 ],
 "metadata": {
  "kernelspec": {
   "display_name": "Python 3",
   "language": "python",
   "name": "python3"
  },
  "language_info": {
   "codemirror_mode": {
    "name": "ipython",
    "version": 3
   },
   "file_extension": ".py",
   "mimetype": "text/x-python",
   "name": "python",
   "nbconvert_exporter": "python",
   "pygments_lexer": "ipython3",
   "version": "3.7.1"
  }
 },
 "nbformat": 4,
 "nbformat_minor": 2
}
